{
  "nbformat": 4,
  "nbformat_minor": 0,
  "metadata": {
    "colab": {
      "name": "Inventory Management.ipynb",
      "provenance": []
    },
    "kernelspec": {
      "display_name": "Python 3",
      "name": "python3"
    },
    "language_info": {
      "name": "python"
    }
  },
  "cells": [
    {
      "cell_type": "code",
      "metadata": {
        "id": "zB1z884fGxEW"
      },
      "source": [
        "# RECORDS FOR INVENTORY MANAGEMENT\n",
        "\n",
        "products_record = { 1001: {\"Product name\": \"Lays\" , \"Pcategory\": \"Chips\", \"Price\" : 10,\"Quantity\":100,\"Psection\":\"Snacks\"},\n",
        "                    1002: {\"Product name\": \"Mango\", \"Pcategory\": \"Fruits\", \"Price\": 20,\"Quantity\":150,\"Psection\":\"Fruits&Veggies\"},\n",
        "                    1003: {\"Product name\": \"Lipstick\" , \"Pcategory\": \"Cosmetics\", \"Price\" : 150,\"Quantity\":170,\"Psection\":\"Makeup\"},\n",
        "                    1004: {\"Product name\": \"Tide\" , \"Pcategory\": \"Cleaning\", \"Price\" : 54,\"Quantity\":45,\"Psection\":\"Washingitems\"},\n",
        "                    1005: {\"Product name\": \"Pepsi\" , \"Pcategory\": \"Drinks\", \"Price\" : 30,\"Quantity\":60,\"Psection\":\"CoolDrinks\"},\n",
        "                    1006: {\"Product name\": \"Milk\" , \"Pcategory\": \"Amul\", \"Price\" : 25,\"Quantity\":100,\"Psection\":\"Dairy\"},\n",
        "                    1007: {\"Product name\": \"T-shirt\" , \"Pcategory\": \"Men's wear\", \"Price\" : 140,\"Quantity\":250,\"Psection\":\"Clothes\"},\n",
        "                    1008: {\"Product name\": \"Headset\" , \"Pcategory\": \"Gadgets\", \"Price\" :900,\"Quantity\":20,\"Psection\":\"Electronis\"},\n",
        "                    1009: {\"Product name\": \"Watch\" , \"Pcategory\": \"Gadgets\", \"Price\" : 800,\"Quantity\":30,\"Psection\":\"Electronis\"},\n",
        "                    1010: {\"Product name\": \"Butter\" , \"Pcategory\": \"Amul\", \"Price\" : 60,\"Quantity\":40,\"Psection\":\"Dairy\"},\n",
        "                    1011: {\"Product name\": \"Cheese\" , \"Pcategory\": \"Amul\", \"Price\" : 250,\"Quantity\":20,\"Psection\":\"Dairy\"},\n",
        "                    1012: {\"Product name\": \"Strawberry\" , \"Pcategory\": \"Fruits\", \"Price\" :200,\"Quantity\":12,\"Psection\":\"Fruits&Veggies\"},\n",
        "                    1013: {\"Product name\": \"Banana\" , \"Pcategory\": \"Fruits\", \"Price\" : 30,\"Quantity\":50,\"Psection\":\"Fruits&Veggies\"},\n",
        "                    1014: {\"Product name\": \"Papaya\" , \"Pcategory\": \"Fruits\", \"Price\" : 60,\"Quantity\":60,\"Psection\":\"Fruits&Veggies\"},\n",
        "                    1015: {\"Product name\": \"Apple\" , \"Pcategory\": \"Fruits\", \"Price\" : 70,\"Quantity\":40,\"Psection\":\"Fruits&Veggies\"},\n",
        "                    1016: {\"Product name\": \"Maaza\" , \"Pcategory\": \"Drinks\", \"Price\" : 30,\"Quantity\":60,\"Psection\":\"CoolDrinks\"},\n",
        "                    1017: {\"Product name\": \"Santoor\" , \"Pcategory\": \"Cleaning\", \"Price\" : 30,\"Quantity\":100,\"Psection\":\"Washingitems\"},\n",
        "                    1018: {\"Product name\": \"Clinic Plus\" , \"Pcategory\": \"Cleaning\", \"Price\" : 50,\"Quantity\":50,\"Psection\":\"Washingitems\"},\n",
        "                    1019: {\"Product name\": \"SunSilk\" , \"Pcategory\": \"Cleaning\", \"Price\" : 70,\"Quantity\":70,\"Psection\":\"Washingitems\"},\n",
        "                    1020: {\"Product name\": \"Cheetos\" , \"Pcategory\": \"Chips\", \"Price\" : 15,\"Quantity\":60,\"Psection\":\"Snacks\"},\n",
        "                    1021: {\"Product name\": \"Kurkure\" , \"Pcategory\": \"Chips\", \"Price\" : 20,\"Quantity\":50,\"Psection\":\"Snacks\"},\n",
        "                    1022: {\"Product name\": \"Carrot\" , \"Pcategory\": \"vegetables\", \"Price\" : 5,\"Quantity\":30,\"Psection\":\"Fruits&Veggies\"},\n",
        "                    1023: {\"Product name\": \"Tomato\" , \"Pcategory\": \"vegetables\", \"Price\" : 3,\"Quantity\":40,\"Psection\":\"vegetables\"},\n",
        "                    1024: {\"Product name\": \"Onion\" , \"Pcategory\": \"vegetables\", \"Price\" : 4,\"Quantity\":100,\"Psection\":\"vegetables\"},\n",
        "                    1025: {\"Product name\": \"Ponds\" , \"Pcategory\": \"Cosmetics\", \"Price\" : 50,\"Quantity\":50,\"Psection\":\"Makeup\"},\n",
        "                    1026: {\"Product name\": \"Paneer\" , \"Pcategory\": \"Amul\", \"Price\" : 120,\"Quantity\":60,\"Psection\":\"Dairy\"},\n",
        "                    1027: {\"Product name\": \"Kurtis\" , \"Pcategory\": \"Women's wear\", \"Price\" :300,\"Quantity\":40,\"Psection\":\"Clothes\"},\n",
        "                    1028: {\"Product name\": \"Parle\" , \"Pcategory\": \"Biscuits\", \"Price\" : 10,\"Quantity\":60,\"Psection\":\"Snacks\"},\n",
        "                    1029: {\"Product name\": \"Leggings\" , \"Pcategory\": \"Women's wear\", \"Price\" : 350,\"Quantity\":30,\"Psection\":\"Clothes\"},\n",
        "                    1030: {\"Product name\": \"Jeans\" , \"Pcategory\": \"Men's wear\", \"Price\" : 900,\"Quantity\":50,\"Psection\":\"Clothes\"}\n",
        "\n",
        "                   }\n",
        "\n",
        "#fetching keys from dictionary and converting to list\n",
        "\n",
        "key_list = list(products_record.keys()) \n",
        "\n",
        "# To calculate total sales\n",
        "count=0 \n"
      ],
      "execution_count": 12,
      "outputs": []
    },
    {
      "cell_type": "code",
      "metadata": {
        "colab": {
          "base_uri": "https://localhost:8080/"
        },
        "id": "MxthxADytcb5",
        "outputId": "1c57195c-ccf4-4fae-dacf-59b429aff811"
      },
      "source": [
        "#Displaying the product id and product name to user\n",
        "\n",
        "print(\" \\\"Welcome. Kindly check out the below listed Product id and name to order\\\"\")\n",
        "for k in products_record.keys():\n",
        "  print(k, products_record[k][\"Product name\"])"
      ],
      "execution_count": 13,
      "outputs": [
        {
          "output_type": "stream",
          "name": "stdout",
          "text": [
            " \"Welcome. Kindly check out the below listed Product id and name to order\"\n",
            "1001 Lays\n",
            "1002 Mango\n",
            "1003 Lipstick\n",
            "1004 Tide\n",
            "1005 Pepsi\n",
            "1006 Milk\n",
            "1007 T-shirt\n",
            "1008 Headset\n",
            "1009 Watch\n",
            "1010 Butter\n",
            "1011 Cheese\n",
            "1012 Strawberry\n",
            "1013 Banana\n",
            "1014 Papaya\n",
            "1015 Apple\n",
            "1016 Maaza\n",
            "1017 Santoor\n",
            "1018 Clinic Plus\n",
            "1019 SunSilk\n",
            "1020 Cheetos\n",
            "1021 Kurkure\n",
            "1022 Carrot\n",
            "1023 Tomato\n",
            "1024 Onion\n",
            "1025 Ponds\n",
            "1026 Paneer\n",
            "1027 Kurtis\n",
            "1028 Parle\n",
            "1029 Leggings\n",
            "1030 Jeans\n"
          ]
        }
      ]
    },
    {
      "cell_type": "code",
      "metadata": {
        "colab": {
          "base_uri": "https://localhost:8080/"
        },
        "id": "Zv4IPjk8npfp",
        "outputId": "88ff6c03-3899-47ea-dc8f-07154ebb528d"
      },
      "source": [
        "# BILLING CODE WITH ALL POSIBILITES ( MATCHING USER ID, QUANTITY, STOCK IS ENOUGH OR NOT)\n",
        "print(\"\\n ***********************\")\n",
        "usid= int(input(\"Enter the Product id \"))                                       #PROMPTING ID AND QUANTITY\n",
        "usquan=int(input(\"Enter the quantity \"))\n",
        "for i in key_list:  \n",
        "  if(usid in key_list):                                                         # IF ID MATCHES ID ENTERED BY USER\n",
        "    if(usquan<products_record[usid][\"Quantity\"]):                               # IF QUANTITY ENTERED BY USER IS LESS THAN STOCK\n",
        "      print(\"You ordered \\n\")\n",
        "      print(\"***********************\")\n",
        "      print(\"Product ID: \",usid, \"\\nProduct name: \",products_record[usid][\"Product name\"])\n",
        "      print(\"Product Quantity\",usquan,\"\\nProduct Price\",products_record[usid][\"Price\"])\n",
        "      print(\"------------------------\")\n",
        "      print(\"\\nBilling Amout: \", usquan * products_record[usid][\"Price\"])\n",
        "      print(\"***********************\")\n",
        "      count = count +1\n",
        "      products_record[usid][\"Quantity\"]  = products_record[usid][\"Quantity\"] - usquan \n",
        "      break\n",
        "    elif(usquan>products_record[usid][\"Quantity\"]):  \n",
        "      if(products_record[usid][\"Quantity\"]>=0): \n",
        "        print(products_record[usid][\"Quantity\"],\" items are left. Do you want to buy?\")   \n",
        "        ans=input(\"Enter y (yes) or n (no)\")                                      # ASKING USER YES OR NO TO BUY LEFT QUANTITY\n",
        "        if(ans=='y'):\n",
        "          print(\"You ordered \\n\")\n",
        "          print(\"***********************\")\n",
        "          print(\"Product ID: \",usid, \"\\nProduct name: \",products_record[usid][\"Product name\"])\n",
        "          print(\"Product Quantity\",products_record[usid][\"Quantity\"],\"\\nProduct Price\",products_record[usid][\"Price\"])\n",
        "          print(\"------------------------\")\n",
        "          print(\"\\nBilling Amout: \", products_record[usid][\"Quantity\"] * products_record[usid][\"Price\"])\n",
        "          print(\"***********************\")\n",
        "          count = count +1\n",
        "          products_record[usid][\"Quantity\"]  = products_record[usid][\"Quantity\"] - products_record[usid][\"Quantity\"]\n",
        "          break\n",
        "        elif(ans=='n'):                                                           \n",
        "          print(\"thanks for visiting\")\n",
        "          break\n",
        "    elif(products_record[usid][\"Quantity\"]<=0):\n",
        "        print(\"No Stock\")\n",
        "        break\n",
        "  else:\n",
        "    print(\"\\n ***********************\")\n",
        "    print(\"Select Product id from mentioned list. For example \\\"1001\\\" not 1\")\n",
        "    break\n",
        "  \n",
        "\n",
        "\n",
        "\n"
      ],
      "execution_count": 14,
      "outputs": [
        {
          "output_type": "stream",
          "name": "stdout",
          "text": [
            "\n",
            " ***********************\n",
            "Enter the Product id 1001\n",
            "Enter the quantity 2\n",
            "You ordered \n",
            "\n",
            "***********************\n",
            "Product ID:  1001 \n",
            "Product name:  Lays\n",
            "Product Quantity 2 \n",
            "Product Price 10\n",
            "------------------------\n",
            "\n",
            "Billing Amout:  20\n",
            "***********************\n"
          ]
        }
      ]
    },
    {
      "cell_type": "code",
      "metadata": {
        "colab": {
          "base_uri": "https://localhost:8080/"
        },
        "id": "s-bq38rfuzRF",
        "outputId": "6605934e-4bcb-4e96-af10-be1455a102ac"
      },
      "source": [
        "# QUANTITY UPDATES IN RECORD AFTER REDUCING\n",
        "products_record_updated=products_record\n",
        "print(products_record_updated)\n",
        "#TOTAL SALE OF THE DAY\n",
        "total_sale = count\n",
        "print(\"TOTAL SALE OF THE DAY :\",total_sale)"
      ],
      "execution_count": 15,
      "outputs": [
        {
          "output_type": "stream",
          "name": "stdout",
          "text": [
            "{1001: {'Product name': 'Lays', 'Pcategory': 'Chips', 'Price': 10, 'Quantity': 98, 'Psection': 'Snacks'}, 1002: {'Product name': 'Mango', 'Pcategory': 'Fruits', 'Price': 20, 'Quantity': 150, 'Psection': 'Fruits&Veggies'}, 1003: {'Product name': 'Lipstick', 'Pcategory': 'Cosmetics', 'Price': 150, 'Quantity': 170, 'Psection': 'Makeup'}, 1004: {'Product name': 'Tide', 'Pcategory': 'Cleaning', 'Price': 54, 'Quantity': 45, 'Psection': 'Washingitems'}, 1005: {'Product name': 'Pepsi', 'Pcategory': 'Drinks', 'Price': 30, 'Quantity': 60, 'Psection': 'CoolDrinks'}, 1006: {'Product name': 'Milk', 'Pcategory': 'Amul', 'Price': 25, 'Quantity': 100, 'Psection': 'Dairy'}, 1007: {'Product name': 'T-shirt', 'Pcategory': \"Men's wear\", 'Price': 140, 'Quantity': 250, 'Psection': 'Clothes'}, 1008: {'Product name': 'Headset', 'Pcategory': 'Gadgets', 'Price': 900, 'Quantity': 20, 'Psection': 'Electronis'}, 1009: {'Product name': 'Watch', 'Pcategory': 'Gadgets', 'Price': 800, 'Quantity': 30, 'Psection': 'Electronis'}, 1010: {'Product name': 'Butter', 'Pcategory': 'Amul', 'Price': 60, 'Quantity': 40, 'Psection': 'Dairy'}, 1011: {'Product name': 'Cheese', 'Pcategory': 'Amul', 'Price': 250, 'Quantity': 20, 'Psection': 'Dairy'}, 1012: {'Product name': 'Strawberry', 'Pcategory': 'Fruits', 'Price': 200, 'Quantity': 12, 'Psection': 'Fruits&Veggies'}, 1013: {'Product name': 'Banana', 'Pcategory': 'Fruits', 'Price': 30, 'Quantity': 50, 'Psection': 'Fruits&Veggies'}, 1014: {'Product name': 'Papaya', 'Pcategory': 'Fruits', 'Price': 60, 'Quantity': 60, 'Psection': 'Fruits&Veggies'}, 1015: {'Product name': 'Apple', 'Pcategory': 'Fruits', 'Price': 70, 'Quantity': 40, 'Psection': 'Fruits&Veggies'}, 1016: {'Product name': 'Maaza', 'Pcategory': 'Drinks', 'Price': 30, 'Quantity': 60, 'Psection': 'CoolDrinks'}, 1017: {'Product name': 'Santoor', 'Pcategory': 'Cleaning', 'Price': 30, 'Quantity': 100, 'Psection': 'Washingitems'}, 1018: {'Product name': 'Clinic Plus', 'Pcategory': 'Cleaning', 'Price': 50, 'Quantity': 50, 'Psection': 'Washingitems'}, 1019: {'Product name': 'SunSilk', 'Pcategory': 'Cleaning', 'Price': 70, 'Quantity': 70, 'Psection': 'Washingitems'}, 1020: {'Product name': 'Cheetos', 'Pcategory': 'Chips', 'Price': 15, 'Quantity': 60, 'Psection': 'Snacks'}, 1021: {'Product name': 'Kurkure', 'Pcategory': 'Chips', 'Price': 20, 'Quantity': 50, 'Psection': 'Snacks'}, 1022: {'Product name': 'Carrot', 'Pcategory': 'vegetables', 'Price': 5, 'Quantity': 30, 'Psection': 'Fruits&Veggies'}, 1023: {'Product name': 'Tomato', 'Pcategory': 'vegetables', 'Price': 3, 'Quantity': 40, 'Psection': 'vegetables'}, 1024: {'Product name': 'Onion', 'Pcategory': 'vegetables', 'Price': 4, 'Quantity': 100, 'Psection': 'vegetables'}, 1025: {'Product name': 'Ponds', 'Pcategory': 'Cosmetics', 'Price': 50, 'Quantity': 50, 'Psection': 'Makeup'}, 1026: {'Product name': 'Paneer', 'Pcategory': 'Amul', 'Price': 120, 'Quantity': 60, 'Psection': 'Dairy'}, 1027: {'Product name': 'Kurtis', 'Pcategory': \"Women's wear\", 'Price': 300, 'Quantity': 40, 'Psection': 'Clothes'}, 1028: {'Product name': 'Parle', 'Pcategory': 'Biscuits', 'Price': 10, 'Quantity': 60, 'Psection': 'Snacks'}, 1029: {'Product name': 'Leggings', 'Pcategory': \"Women's wear\", 'Price': 350, 'Quantity': 30, 'Psection': 'Clothes'}, 1030: {'Product name': 'Jeans', 'Pcategory': \"Men's wear\", 'Price': 900, 'Quantity': 50, 'Psection': 'Clothes'}}\n",
            "TOTAL SALE OF THE DAY : 1\n"
          ]
        }
      ]
    },
    {
      "cell_type": "code",
      "metadata": {
        "id": "LsWmOQBNzfk6"
      },
      "source": [
        "#STORING UPDATED RECORD IN A TEXT FILE\n",
        "import json \n",
        "js = json.dumps(products_record_updated)\n",
        "fd = open(\"Productsrecordupdated.txt\",'w') \n",
        "fd.write(js) #converting json to text\n",
        "fd.close()\n",
        "\n",
        "#READING UPDATED RECORD\n",
        "fd = open(\"Productsrecordupdated.txt\",'r') \n",
        "txt = fd.read()\n",
        "fd.close()"
      ],
      "execution_count": 16,
      "outputs": []
    },
    {
      "cell_type": "code",
      "metadata": {
        "id": "3kXC9vgYMsPe"
      },
      "source": [
        "#IMPORTING JSON TO STORE PRODUCTS_RECORD IN OUR LOCAL SYSTEM\n",
        "import json \n",
        "js = json.dumps(products_record)  \n",
        "\n",
        "#OPENING JSON FILE TO WRITE RECORD VALUES\n",
        "fw = open(\"Productsrecord.json\",'w') \n",
        "fw.write(js)\n",
        "fw.close()\n"
      ],
      "execution_count": 17,
      "outputs": []
    },
    {
      "cell_type": "code",
      "metadata": {
        "id": "3DSvu45ZusPu"
      },
      "source": [
        ""
      ],
      "execution_count": null,
      "outputs": []
    },
    {
      "cell_type": "code",
      "metadata": {
        "id": "4ICzSRBswIRl"
      },
      "source": [
        "#READING JSON FILE\n",
        "fr = open(\"Productsrecord.json\",'r')  \n",
        "r=fr.read()\n",
        "rec=json.loads(r)\n",
        "fr.close()\n",
        "\n"
      ],
      "execution_count": null,
      "outputs": []
    }
  ]
}